{
 "cells": [
  {
   "cell_type": "markdown",
   "metadata": {
    "collapsed": true
   },
   "source": [
    "# TensorFlow Regression Example"
   ]
  },
  {
   "cell_type": "markdown",
   "metadata": {},
   "source": [
    "## Creating Data"
   ]
  },
  {
   "cell_type": "code",
   "execution_count": 114,
   "metadata": {},
   "outputs": [],
   "source": [
    "import numpy as np\n",
    "import pandas as pd\n",
    "import matplotlib.pyplot as plt\n",
    "%matplotlib inline"
   ]
  },
  {
   "cell_type": "code",
   "execution_count": 115,
   "metadata": {},
   "outputs": [],
   "source": [
    "# 1 Million Points\n",
    "x_data = np.linspace(0.0,10.0,1000000)"
   ]
  },
  {
   "cell_type": "code",
   "execution_count": 116,
   "metadata": {},
   "outputs": [],
   "source": [
    "noise = np.random.randn(len(x_data))"
   ]
  },
  {
   "cell_type": "code",
   "execution_count": 117,
   "metadata": {},
   "outputs": [],
   "source": [
    "# y = mx + b + noise_levels\n",
    "b = 5\n",
    "\n",
    "y_true =  (0.5 * x_data ) + 5 + noise"
   ]
  },
  {
   "cell_type": "code",
   "execution_count": 118,
   "metadata": {},
   "outputs": [],
   "source": [
    "my_data = pd.concat([pd.DataFrame(data=x_data,columns=['X Data']),pd.DataFrame(data=y_true,columns=['Y'])],axis=1)"
   ]
  },
  {
   "cell_type": "code",
   "execution_count": 119,
   "metadata": {},
   "outputs": [
    {
     "data": {
      "text/html": [
       "<div>\n",
       "<style scoped>\n",
       "    .dataframe tbody tr th:only-of-type {\n",
       "        vertical-align: middle;\n",
       "    }\n",
       "\n",
       "    .dataframe tbody tr th {\n",
       "        vertical-align: top;\n",
       "    }\n",
       "\n",
       "    .dataframe thead th {\n",
       "        text-align: right;\n",
       "    }\n",
       "</style>\n",
       "<table border=\"1\" class=\"dataframe\">\n",
       "  <thead>\n",
       "    <tr style=\"text-align: right;\">\n",
       "      <th></th>\n",
       "      <th>X Data</th>\n",
       "      <th>Y</th>\n",
       "    </tr>\n",
       "  </thead>\n",
       "  <tbody>\n",
       "    <tr>\n",
       "      <th>0</th>\n",
       "      <td>0.00000</td>\n",
       "      <td>4.619761</td>\n",
       "    </tr>\n",
       "    <tr>\n",
       "      <th>1</th>\n",
       "      <td>0.00001</td>\n",
       "      <td>4.408912</td>\n",
       "    </tr>\n",
       "    <tr>\n",
       "      <th>2</th>\n",
       "      <td>0.00002</td>\n",
       "      <td>5.303361</td>\n",
       "    </tr>\n",
       "    <tr>\n",
       "      <th>3</th>\n",
       "      <td>0.00003</td>\n",
       "      <td>5.494254</td>\n",
       "    </tr>\n",
       "    <tr>\n",
       "      <th>4</th>\n",
       "      <td>0.00004</td>\n",
       "      <td>4.937969</td>\n",
       "    </tr>\n",
       "  </tbody>\n",
       "</table>\n",
       "</div>"
      ],
      "text/plain": [
       "    X Data         Y\n",
       "0  0.00000  4.619761\n",
       "1  0.00001  4.408912\n",
       "2  0.00002  5.303361\n",
       "3  0.00003  5.494254\n",
       "4  0.00004  4.937969"
      ]
     },
     "execution_count": 119,
     "metadata": {},
     "output_type": "execute_result"
    }
   ],
   "source": [
    "my_data.head()"
   ]
  },
  {
   "cell_type": "code",
   "execution_count": 120,
   "metadata": {},
   "outputs": [
    {
     "data": {
      "text/plain": [
       "<AxesSubplot:xlabel='X Data', ylabel='Y'>"
      ]
     },
     "execution_count": 120,
     "metadata": {},
     "output_type": "execute_result"
    },
    {
     "data": {
      "image/png": "[encoded data removed]",
      "text/plain": [
       "<Figure size 432x288 with 1 Axes>"
      ]
     },
     "metadata": {
      "needs_background": "light"
     },
     "output_type": "display_data"
    }
   ],
   "source": [
    "my_data.sample(n=250).plot(kind='scatter',x='X Data',y='Y')"
   ]
  },
  {
   "cell_type": "markdown",
   "metadata": {},
   "source": [
    "# TensorFlow\n",
    "## Batch Size\n",
    "\n",
    "We will take the data in batches (1,000,000 points is a lot to pass in at once)"
   ]
  },
  {
   "cell_type": "code",
   "execution_count": 121,
   "metadata": {},
   "outputs": [],
   "source": [
    "import tensorflow.compat.v1 as tf\n",
    "\n",
    "tf.disable_v2_behavior()"
   ]
  },
  {
   "cell_type": "code",
   "execution_count": 122,
   "metadata": {},
   "outputs": [],
   "source": [
    "# Random 10 points to grab\n",
    "batch_size = 8"
   ]
  },
  {
   "cell_type": "markdown",
   "metadata": {},
   "source": [
    "** Variables **"
   ]
  },
  {
   "cell_type": "code",
   "execution_count": 123,
   "metadata": {},
   "outputs": [],
   "source": [
    "m = tf.Variable(0.5)\n",
    "b = tf.Variable(1.0)"
   ]
  },
  {
   "cell_type": "markdown",
   "metadata": {},
   "source": [
    "** Placeholders **"
   ]
  },
  {
   "cell_type": "code",
   "execution_count": 124,
   "metadata": {},
   "outputs": [],
   "source": [
    "xph = tf.placeholder(tf.float32,[batch_size])\n",
    "yph = tf.placeholder(tf.float32,[batch_size])"
   ]
  },
  {
   "cell_type": "markdown",
   "metadata": {},
   "source": [
    "** Graph **"
   ]
  },
  {
   "cell_type": "code",
   "execution_count": 125,
   "metadata": {},
   "outputs": [],
   "source": [
    "y_model = m*xph + b"
   ]
  },
  {
   "cell_type": "markdown",
   "metadata": {},
   "source": [
    "** Loss Function **"
   ]
  },
  {
   "cell_type": "code",
   "execution_count": 126,
   "metadata": {},
   "outputs": [],
   "source": [
    "error = tf.reduce_sum(tf.square(yph-y_model))"
   ]
  },
  {
   "cell_type": "markdown",
   "metadata": {},
   "source": [
    "** Optimizer **"
   ]
  },
  {
   "cell_type": "code",
   "execution_count": 127,
   "metadata": {},
   "outputs": [],
   "source": [
    "optimizer = tf.train.GradientDescentOptimizer(learning_rate=0.001)\n",
    "train = optimizer.minimize(error)"
   ]
  },
  {
   "cell_type": "markdown",
   "metadata": {},
   "source": [
    "** Initialize Variables **"
   ]
  },
  {
   "cell_type": "code",
   "execution_count": 128,
   "metadata": {},
   "outputs": [],
   "source": [
    "init = tf.global_variables_initializer()"
   ]
  },
  {
   "cell_type": "markdown",
   "metadata": {},
   "source": [
    "### Session"
   ]
  },
  {
   "cell_type": "code",
   "execution_count": 129,
   "metadata": {},
   "outputs": [],
   "source": [
    "with tf.Session() as sess:\n",
    "    \n",
    "    sess.run(init)\n",
    "    \n",
    "    batches = 1000\n",
    "    \n",
    "    for i in range(batches):\n",
    "        \n",
    "        rand_ind = np.random.randint(len(x_data),size=batch_size)\n",
    "        \n",
    "        feed = {xph:x_data[rand_ind],yph:y_true[rand_ind]}\n",
    "        \n",
    "        sess.run(train,feed_dict=feed)\n",
    "        \n",
    "    model_m,model_b = sess.run([m,b])"
   ]
  },
  {
   "cell_type": "code",
   "execution_count": 130,
   "metadata": {},
   "outputs": [
    {
     "data": {
      "text/plain": [
       "0.5625147"
      ]
     },
     "execution_count": 130,
     "metadata": {},
     "output_type": "execute_result"
    }
   ],
   "source": [
    "model_m"
   ]
  },
  {
   "cell_type": "code",
   "execution_count": 131,
   "metadata": {},
   "outputs": [
    {
     "data": {
      "text/plain": [
       "4.8997946"
      ]
     },
     "execution_count": 131,
     "metadata": {},
     "output_type": "execute_result"
    }
   ],
   "source": [
    "model_b"
   ]
  },
  {
   "cell_type": "markdown",
   "metadata": {},
   "source": [
    "### Results"
   ]
  },
  {
   "cell_type": "code",
   "execution_count": 132,
   "metadata": {},
   "outputs": [],
   "source": [
    "y_hat = x_data * model_m + model_b"
   ]
  },
  {
   "cell_type": "code",
   "execution_count": 133,
   "metadata": {},
   "outputs": [
    {
     "data": {
      "text/plain": [
       "[<matplotlib.lines.Line2D at 0x29ce367fa60>]"
      ]
     },
     "execution_count": 133,
     "metadata": {},
     "output_type": "execute_result"
    },
    {
     "data": {
      "image/png": "[encoded data removed]",
      "text/plain": [
       "<Figure size 432x288 with 1 Axes>"
      ]
     },
     "metadata": {
      "needs_background": "light"
     },
     "output_type": "display_data"
    }
   ],
   "source": [
    "my_data.sample(n=250).plot(kind='scatter',x='X Data',y='Y')\n",
    "plt.plot(x_data,y_hat,'r')"
   ]
  },
  {
   "cell_type": "markdown",
   "metadata": {},
   "source": [
    "## tf.estimator API\n",
    "\n",
    "Much simpler API for basic tasks like regression! We'll talk about more abstractions like TF-Slim later on."
   ]
  },
  {
   "cell_type": "code",
   "execution_count": 134,
   "metadata": {},
   "outputs": [],
   "source": [
    "feat_cols = [tf.feature_column.numeric_column('x',shape=[1])]"
   ]
  },
  {
   "cell_type": "code",
   "execution_count": 135,
   "metadata": {},
   "outputs": [
    {
     "name": "stdout",
     "output_type": "stream",
     "text": [
      "INFO:tensorflow:Using default config.\n",
      "WARNING:tensorflow:Using temporary folder as model directory: C:\\Users\\Rachit\\AppData\\Local\\Temp\\tmpyp2w1cty\n",
      "INFO:tensorflow:Using config: {'_model_dir': 'C:\\\\Users\\\\Rachit\\\\AppData\\\\Local\\\\Temp\\\\tmpyp2w1cty', '_tf_random_seed': None, '_save_summary_steps': 100, '_save_checkpoints_steps': None, '_save_checkpoints_secs': 600, '_session_config': allow_soft_placement: true\n",
      "graph_options {\n",
      "  rewrite_options {\n",
      "    meta_optimizer_iterations: ONE\n",
      "  }\n",
      "}\n",
      ", '_keep_checkpoint_max': 5, '_keep_checkpoint_every_n_hours': 10000, '_log_step_count_steps': 100, '_train_distribute': None, '_device_fn': None, '_protocol': None, '_eval_distribute': None, '_experimental_distribute': None, '_experimental_max_worker_delay_secs': None, '_session_creation_timeout_secs': 7200, '_service': None, '_cluster_spec': ClusterSpec({}), '_task_type': 'worker', '_task_id': 0, '_global_id_in_cluster': 0, '_master': '', '_evaluation_master': '', '_is_chief': True, '_num_ps_replicas': 0, '_num_worker_replicas': 1}\n"
     ]
    }
   ],
   "source": [
    "estimator = tf.estimator.LinearRegressor(feature_columns=feat_cols)"
   ]
  },
  {
   "cell_type": "markdown",
   "metadata": {},
   "source": [
    "### Train Test Split\n",
    "\n",
    "We haven't actually performed a train test split yet! So let's do that on our data now and perform a more realistic version of a Regression Task"
   ]
  },
  {
   "cell_type": "code",
   "execution_count": 136,
   "metadata": {},
   "outputs": [],
   "source": [
    "from sklearn.model_selection import train_test_split"
   ]
  },
  {
   "cell_type": "code",
   "execution_count": 137,
   "metadata": {},
   "outputs": [],
   "source": [
    "x_train, x_eval, y_train, y_eval = train_test_split(x_data,y_true,test_size=0.3, random_state = 101)"
   ]
  },
  {
   "cell_type": "code",
   "execution_count": 138,
   "metadata": {},
   "outputs": [
    {
     "name": "stdout",
     "output_type": "stream",
     "text": [
      "(700000,)\n",
      "(700000,)\n",
      "(300000,)\n",
      "(300000,)\n"
     ]
    }
   ],
   "source": [
    "print(x_train.shape)\n",
    "print(y_train.shape)\n",
    "\n",
    "print(x_eval.shape)\n",
    "print(y_eval.shape)"
   ]
  },
  {
   "cell_type": "markdown",
   "metadata": {},
   "source": [
    "### Set up Estimator Inputs"
   ]
  },
  {
   "cell_type": "code",
   "execution_count": 139,
   "metadata": {},
   "outputs": [],
   "source": [
    "# Can also do .pandas_input_fn\n",
    "input_func = tf.estimator.inputs.numpy_input_fn({'x':x_train},y_train,batch_size=4,num_epochs=None,shuffle=True)"
   ]
  },
  {
   "cell_type": "code",
   "execution_count": 140,
   "metadata": {},
   "outputs": [],
   "source": [
    "train_input_func = tf.estimator.inputs.numpy_input_fn({'x':x_train},y_train,batch_size=4,num_epochs=1000,shuffle=False)"
   ]
  },
  {
   "cell_type": "code",
   "execution_count": 141,
   "metadata": {},
   "outputs": [],
   "source": [
    "eval_input_func = tf.estimator.inputs.numpy_input_fn({'x':x_eval},y_eval,batch_size=4,num_epochs=1000,shuffle=False)"
   ]
  },
  {
   "cell_type": "markdown",
   "metadata": {},
   "source": [
    "### Train the Estimator"
   ]
  },
  {
   "cell_type": "code",
   "execution_count": 142,
   "metadata": {},
   "outputs": [
    {
     "name": "stdout",
     "output_type": "stream",
     "text": [
      "INFO:tensorflow:Calling model_fn.\n",
      "INFO:tensorflow:Done calling model_fn.\n",
      "INFO:tensorflow:Create CheckpointSaverHook.\n",
      "INFO:tensorflow:Graph was finalized.\n",
      "INFO:tensorflow:Running local_init_op.\n",
      "INFO:tensorflow:Done running local_init_op.\n",
      "INFO:tensorflow:Calling checkpoint listeners before saving checkpoint 0...\n",
      "INFO:tensorflow:Saving checkpoints for 0 into C:\\Users\\Rachit\\AppData\\Local\\Temp\\tmpyp2w1cty\\model.ckpt.\n",
      "INFO:tensorflow:Calling checkpoint listeners after saving checkpoint 0...\n",
      "INFO:tensorflow:loss = 214.07126, step = 1\n",
      "INFO:tensorflow:global_step/sec: 1790.54\n",
      "INFO:tensorflow:loss = 20.969906, step = 101 (0.057 sec)\n",
      "INFO:tensorflow:global_step/sec: 2445.53\n",
      "INFO:tensorflow:loss = 7.3028955, step = 201 (0.041 sec)\n",
      "INFO:tensorflow:global_step/sec: 2331.83\n",
      "INFO:tensorflow:loss = 15.647152, step = 301 (0.043 sec)\n",
      "INFO:tensorflow:global_step/sec: 2133.37\n",
      "INFO:tensorflow:loss = 7.384008, step = 401 (0.046 sec)\n",
      "INFO:tensorflow:global_step/sec: 2228.17\n",
      "INFO:tensorflow:loss = 5.5250196, step = 501 (0.045 sec)\n",
      "INFO:tensorflow:global_step/sec: 2278.78\n",
      "INFO:tensorflow:loss = 11.025036, step = 601 (0.044 sec)\n",
      "INFO:tensorflow:global_step/sec: 2133.38\n",
      "INFO:tensorflow:loss = 9.23838, step = 701 (0.047 sec)\n",
      "INFO:tensorflow:global_step/sec: 2088.84\n",
      "INFO:tensorflow:loss = 1.5765512, step = 801 (0.048 sec)\n",
      "INFO:tensorflow:global_step/sec: 2088.93\n",
      "INFO:tensorflow:loss = 3.2768614, step = 901 (0.048 sec)\n",
      "INFO:tensorflow:Calling checkpoint listeners before saving checkpoint 1000...\n",
      "INFO:tensorflow:Saving checkpoints for 1000 into C:\\Users\\Rachit\\AppData\\Local\\Temp\\tmpyp2w1cty\\model.ckpt.\n",
      "INFO:tensorflow:Calling checkpoint listeners after saving checkpoint 1000...\n",
      "INFO:tensorflow:Loss for final step: 1.2700188.\n"
     ]
    },
    {
     "data": {
      "text/plain": [
       "<tensorflow_estimator.python.estimator.canned.linear.LinearRegressor at 0x29ce042d550>"
      ]
     },
     "execution_count": 142,
     "metadata": {},
     "output_type": "execute_result"
    }
   ],
   "source": [
    "estimator.train(input_fn=input_func,steps=1000)"
   ]
  },
  {
   "cell_type": "markdown",
   "metadata": {},
   "source": [
    "### Evaluation"
   ]
  },
  {
   "cell_type": "code",
   "execution_count": 143,
   "metadata": {},
   "outputs": [
    {
     "name": "stdout",
     "output_type": "stream",
     "text": [
      "INFO:tensorflow:Calling model_fn.\n",
      "INFO:tensorflow:Done calling model_fn.\n",
      "INFO:tensorflow:Starting evaluation at 2021-01-25T21:26:53Z\n",
      "INFO:tensorflow:Graph was finalized.\n",
      "INFO:tensorflow:Restoring parameters from C:\\Users\\Rachit\\AppData\\Local\\Temp\\tmpyp2w1cty\\model.ckpt-1000\n",
      "INFO:tensorflow:Running local_init_op.\n",
      "INFO:tensorflow:Done running local_init_op.\n",
      "INFO:tensorflow:Evaluation [100/1000]\n",
      "INFO:tensorflow:Evaluation [200/1000]\n",
      "INFO:tensorflow:Evaluation [300/1000]\n",
      "INFO:tensorflow:Evaluation [400/1000]\n",
      "INFO:tensorflow:Evaluation [500/1000]\n",
      "INFO:tensorflow:Evaluation [600/1000]\n",
      "INFO:tensorflow:Evaluation [700/1000]\n",
      "INFO:tensorflow:Evaluation [800/1000]\n",
      "INFO:tensorflow:Evaluation [900/1000]\n",
      "INFO:tensorflow:Evaluation [1000/1000]\n",
      "INFO:tensorflow:Inference Time : 0.52571s\n",
      "INFO:tensorflow:Finished evaluation at 2021-01-25-21:26:53\n",
      "INFO:tensorflow:Saving dict for global step 1000: average_loss = 1.0853746, global_step = 1000, label/mean = 7.5106134, loss = 4.3414984, prediction/mean = 7.271907\n",
      "INFO:tensorflow:Saving 'checkpoint_path' summary for global step 1000: C:\\Users\\Rachit\\AppData\\Local\\Temp\\tmpyp2w1cty\\model.ckpt-1000\n"
     ]
    }
   ],
   "source": [
    "train_metrics = estimator.evaluate(input_fn=train_input_func,steps=1000)"
   ]
  },
  {
   "cell_type": "code",
   "execution_count": 144,
   "metadata": {},
   "outputs": [
    {
     "name": "stdout",
     "output_type": "stream",
     "text": [
      "INFO:tensorflow:Calling model_fn.\n",
      "INFO:tensorflow:Done calling model_fn.\n",
      "INFO:tensorflow:Starting evaluation at 2021-01-25T21:26:54Z\n",
      "INFO:tensorflow:Graph was finalized.\n",
      "INFO:tensorflow:Restoring parameters from C:\\Users\\Rachit\\AppData\\Local\\Temp\\tmpyp2w1cty\\model.ckpt-1000\n",
      "INFO:tensorflow:Running local_init_op.\n",
      "INFO:tensorflow:Done running local_init_op.\n",
      "INFO:tensorflow:Evaluation [100/1000]\n",
      "INFO:tensorflow:Evaluation [200/1000]\n",
      "INFO:tensorflow:Evaluation [300/1000]\n",
      "INFO:tensorflow:Evaluation [400/1000]\n",
      "INFO:tensorflow:Evaluation [500/1000]\n",
      "INFO:tensorflow:Evaluation [600/1000]\n",
      "INFO:tensorflow:Evaluation [700/1000]\n",
      "INFO:tensorflow:Evaluation [800/1000]\n",
      "INFO:tensorflow:Evaluation [900/1000]\n",
      "INFO:tensorflow:Evaluation [1000/1000]\n",
      "INFO:tensorflow:Inference Time : 0.59059s\n",
      "INFO:tensorflow:Finished evaluation at 2021-01-25-21:26:54\n",
      "INFO:tensorflow:Saving dict for global step 1000: average_loss = 1.1080726, global_step = 1000, label/mean = 7.5041995, loss = 4.4322906, prediction/mean = 7.2344337\n",
      "INFO:tensorflow:Saving 'checkpoint_path' summary for global step 1000: C:\\Users\\Rachit\\AppData\\Local\\Temp\\tmpyp2w1cty\\model.ckpt-1000\n"
     ]
    }
   ],
   "source": [
    "eval_metrics = estimator.evaluate(input_fn=eval_input_func,steps=1000)"
   ]
  },
  {
   "cell_type": "code",
   "execution_count": 145,
   "metadata": {},
   "outputs": [
    {
     "name": "stdout",
     "output_type": "stream",
     "text": [
      "train metrics: {'average_loss': 1.0853746, 'label/mean': 7.5106134, 'loss': 4.3414984, 'prediction/mean': 7.271907, 'global_step': 1000}\n",
      "eval metrics: {'average_loss': 1.1080726, 'label/mean': 7.5041995, 'loss': 4.4322906, 'prediction/mean': 7.2344337, 'global_step': 1000}\n"
     ]
    }
   ],
   "source": [
    "print(\"train metrics: {}\".format(train_metrics))\n",
    "print(\"eval metrics: {}\".format(eval_metrics))"
   ]
  },
  {
   "cell_type": "markdown",
   "metadata": {},
   "source": [
    "### Predictions"
   ]
  },
  {
   "cell_type": "code",
   "execution_count": 146,
   "metadata": {},
   "outputs": [],
   "source": [
    "input_fn_predict = tf.estimator.inputs.numpy_input_fn({'x':np.linspace(0,10,10)},shuffle=False)"
   ]
  },
  {
   "cell_type": "code",
   "execution_count": 147,
   "metadata": {},
   "outputs": [
    {
     "name": "stdout",
     "output_type": "stream",
     "text": [
      "INFO:tensorflow:Calling model_fn.\n",
      "INFO:tensorflow:Done calling model_fn.\n",
      "INFO:tensorflow:Graph was finalized.\n",
      "INFO:tensorflow:Restoring parameters from C:\\Users\\Rachit\\AppData\\Local\\Temp\\tmpyp2w1cty\\model.ckpt-1000\n",
      "INFO:tensorflow:Running local_init_op.\n",
      "INFO:tensorflow:Done running local_init_op.\n"
     ]
    },
    {
     "data": {
      "text/plain": [
       "[{'predictions': array([4.3849916], dtype=float32)},\n",
       " {'predictions': array([5.022712], dtype=float32)},\n",
       " {'predictions': array([5.660433], dtype=float32)},\n",
       " {'predictions': array([6.298154], dtype=float32)},\n",
       " {'predictions': array([6.9358745], dtype=float32)},\n",
       " {'predictions': array([7.573595], dtype=float32)},\n",
       " {'predictions': array([8.211315], dtype=float32)},\n",
       " {'predictions': array([8.849036], dtype=float32)},\n",
       " {'predictions': array([9.486757], dtype=float32)},\n",
       " {'predictions': array([10.124477], dtype=float32)}]"
      ]
     },
     "execution_count": 147,
     "metadata": {},
     "output_type": "execute_result"
    }
   ],
   "source": [
    "list(estimator.predict(input_fn=input_fn_predict))"
   ]
  },
  {
   "cell_type": "code",
   "execution_count": 148,
   "metadata": {},
   "outputs": [
    {
     "name": "stdout",
     "output_type": "stream",
     "text": [
      "INFO:tensorflow:Calling model_fn.\n",
      "INFO:tensorflow:Done calling model_fn.\n",
      "INFO:tensorflow:Graph was finalized.\n",
      "INFO:tensorflow:Restoring parameters from C:\\Users\\Rachit\\AppData\\Local\\Temp\\tmpyp2w1cty\\model.ckpt-1000\n",
      "INFO:tensorflow:Running local_init_op.\n",
      "INFO:tensorflow:Done running local_init_op.\n"
     ]
    }
   ],
   "source": [
    "predictions = []# np.array([])\n",
    "for x in estimator.predict(input_fn=input_fn_predict):\n",
    "    predictions.append(x['predictions'])"
   ]
  },
  {
   "cell_type": "code",
   "execution_count": 149,
   "metadata": {},
   "outputs": [
    {
     "data": {
      "text/plain": [
       "[array([4.3849916], dtype=float32),\n",
       " array([5.022712], dtype=float32),\n",
       " array([5.660433], dtype=float32),\n",
       " array([6.298154], dtype=float32),\n",
       " array([6.9358745], dtype=float32),\n",
       " array([7.573595], dtype=float32),\n",
       " array([8.211315], dtype=float32),\n",
       " array([8.849036], dtype=float32),\n",
       " array([9.486757], dtype=float32),\n",
       " array([10.124477], dtype=float32)]"
      ]
     },
     "execution_count": 149,
     "metadata": {},
     "output_type": "execute_result"
    }
   ],
   "source": [
    "predictions"
   ]
  },
  {
   "cell_type": "code",
   "execution_count": 150,
   "metadata": {},
   "outputs": [
    {
     "data": {
      "text/plain": [
       "[<matplotlib.lines.Line2D at 0x29ce024c610>]"
      ]
     },
     "execution_count": 150,
     "metadata": {},
     "output_type": "execute_result"
    },
    {
     "data": {
      "image/png": "[encoded data removed]",
      "text/plain": [
       "<Figure size 432x288 with 1 Axes>"
      ]
     },
     "metadata": {
      "needs_background": "light"
     },
     "output_type": "display_data"
    }
   ],
   "source": [
    "my_data.sample(n=250).plot(kind='scatter',x='X Data',y='Y')\n",
    "plt.plot(np.linspace(0,10,10),predictions,'r')"
   ]
  },
  {
   "cell_type": "code",
   "execution_count": null,
   "metadata": {},
   "outputs": [],
   "source": []
  },
  {
   "cell_type": "markdown",
   "metadata": {},
   "source": [
    "# Regression Exercise - 1\n",
    "\n",
    "California Housing Data\n",
    "\n",
    "This data set contains information about all the block groups in California from the 1990 Census. In this sample a block group on average includes 1425.5 individuals living in a geographically compact area. \n",
    "\n",
    "The task is to aproximate the median house value of each block from the values of the rest of the variables. \n",
    "\n",
    " It has been obtained from the LIACC repository. The original page where the data set can be found is: http://www.liaad.up.pt/~ltorgo/Regression/DataSets.html.\n",
    " "
   ]
  },
  {
   "cell_type": "markdown",
   "metadata": {
    "collapsed": true
   },
   "source": [
    "The Features:\n",
    " \n",
    "* housingMedianAge: continuous. \n",
    "* totalRooms: continuous. \n",
    "* totalBedrooms: continuous. \n",
    "* population: continuous. \n",
    "* households: continuous. \n",
    "* medianIncome: continuous. \n",
    "* medianHouseValue: continuous. "
   ]
  },
  {
   "cell_type": "markdown",
   "metadata": {},
   "source": [
    "## The Data"
   ]
  },
  {
   "cell_type": "markdown",
   "metadata": {},
   "source": [
    "** Import the cal_housing.csv file with pandas. Separate it into a training (70%) and testing set(30%).**"
   ]
  },
  {
   "cell_type": "code",
   "execution_count": 151,
   "metadata": {},
   "outputs": [],
   "source": [
    "import pandas as pd"
   ]
  },
  {
   "cell_type": "code",
   "execution_count": 152,
   "metadata": {},
   "outputs": [],
   "source": [
    "housing = pd.read_csv('cal_housing_clean.csv')"
   ]
  },
  {
   "cell_type": "code",
   "execution_count": 153,
   "metadata": {},
   "outputs": [
    {
     "data": {
      "text/html": [
       "<div>\n",
       "<style scoped>\n",
       "    .dataframe tbody tr th:only-of-type {\n",
       "        vertical-align: middle;\n",
       "    }\n",
       "\n",
       "    .dataframe tbody tr th {\n",
       "        vertical-align: top;\n",
       "    }\n",
       "\n",
       "    .dataframe thead th {\n",
       "        text-align: right;\n",
       "    }\n",
       "</style>\n",
       "<table border=\"1\" class=\"dataframe\">\n",
       "  <thead>\n",
       "    <tr style=\"text-align: right;\">\n",
       "      <th></th>\n",
       "      <th>housingMedianAge</th>\n",
       "      <th>totalRooms</th>\n",
       "      <th>totalBedrooms</th>\n",
       "      <th>population</th>\n",
       "      <th>households</th>\n",
       "      <th>medianIncome</th>\n",
       "      <th>medianHouseValue</th>\n",
       "    </tr>\n",
       "  </thead>\n",
       "  <tbody>\n",
       "    <tr>\n",
       "      <th>0</th>\n",
       "      <td>41.0</td>\n",
       "      <td>880.0</td>\n",
       "      <td>129.0</td>\n",
       "      <td>322.0</td>\n",
       "      <td>126.0</td>\n",
       "      <td>8.3252</td>\n",
       "      <td>452600.0</td>\n",
       "    </tr>\n",
       "    <tr>\n",
       "      <th>1</th>\n",
       "      <td>21.0</td>\n",
       "      <td>7099.0</td>\n",
       "      <td>1106.0</td>\n",
       "      <td>2401.0</td>\n",
       "      <td>1138.0</td>\n",
       "      <td>8.3014</td>\n",
       "      <td>358500.0</td>\n",
       "    </tr>\n",
       "    <tr>\n",
       "      <th>2</th>\n",
       "      <td>52.0</td>\n",
       "      <td>1467.0</td>\n",
       "      <td>190.0</td>\n",
       "      <td>496.0</td>\n",
       "      <td>177.0</td>\n",
       "      <td>7.2574</td>\n",
       "      <td>352100.0</td>\n",
       "    </tr>\n",
       "    <tr>\n",
       "      <th>3</th>\n",
       "      <td>52.0</td>\n",
       "      <td>1274.0</td>\n",
       "      <td>235.0</td>\n",
       "      <td>558.0</td>\n",
       "      <td>219.0</td>\n",
       "      <td>5.6431</td>\n",
       "      <td>341300.0</td>\n",
       "    </tr>\n",
       "    <tr>\n",
       "      <th>4</th>\n",
       "      <td>52.0</td>\n",
       "      <td>1627.0</td>\n",
       "      <td>280.0</td>\n",
       "      <td>565.0</td>\n",
       "      <td>259.0</td>\n",
       "      <td>3.8462</td>\n",
       "      <td>342200.0</td>\n",
       "    </tr>\n",
       "  </tbody>\n",
       "</table>\n",
       "</div>"
      ],
      "text/plain": [
       "   housingMedianAge  totalRooms  totalBedrooms  population  households  \\\n",
       "0              41.0       880.0          129.0       322.0       126.0   \n",
       "1              21.0      7099.0         1106.0      2401.0      1138.0   \n",
       "2              52.0      1467.0          190.0       496.0       177.0   \n",
       "3              52.0      1274.0          235.0       558.0       219.0   \n",
       "4              52.0      1627.0          280.0       565.0       259.0   \n",
       "\n",
       "   medianIncome  medianHouseValue  \n",
       "0        8.3252          452600.0  \n",
       "1        8.3014          358500.0  \n",
       "2        7.2574          352100.0  \n",
       "3        5.6431          341300.0  \n",
       "4        3.8462          342200.0  "
      ]
     },
     "execution_count": 153,
     "metadata": {},
     "output_type": "execute_result"
    }
   ],
   "source": [
    "housing.head()"
   ]
  },
  {
   "cell_type": "code",
   "execution_count": 154,
   "metadata": {},
   "outputs": [
    {
     "data": {
      "text/html": [
       "<div>\n",
       "<style scoped>\n",
       "    .dataframe tbody tr th:only-of-type {\n",
       "        vertical-align: middle;\n",
       "    }\n",
       "\n",
       "    .dataframe tbody tr th {\n",
       "        vertical-align: top;\n",
       "    }\n",
       "\n",
       "    .dataframe thead th {\n",
       "        text-align: right;\n",
       "    }\n",
       "</style>\n",
       "<table border=\"1\" class=\"dataframe\">\n",
       "  <thead>\n",
       "    <tr style=\"text-align: right;\">\n",
       "      <th></th>\n",
       "      <th>count</th>\n",
       "      <th>mean</th>\n",
       "      <th>std</th>\n",
       "      <th>min</th>\n",
       "      <th>25%</th>\n",
       "      <th>50%</th>\n",
       "      <th>75%</th>\n",
       "      <th>max</th>\n",
       "    </tr>\n",
       "  </thead>\n",
       "  <tbody>\n",
       "    <tr>\n",
       "      <th>housingMedianAge</th>\n",
       "      <td>20640.0</td>\n",
       "      <td>28.639486</td>\n",
       "      <td>12.585558</td>\n",
       "      <td>1.0000</td>\n",
       "      <td>18.0000</td>\n",
       "      <td>29.0000</td>\n",
       "      <td>37.00000</td>\n",
       "      <td>52.0000</td>\n",
       "    </tr>\n",
       "    <tr>\n",
       "      <th>totalRooms</th>\n",
       "      <td>20640.0</td>\n",
       "      <td>2635.763081</td>\n",
       "      <td>2181.615252</td>\n",
       "      <td>2.0000</td>\n",
       "      <td>1447.7500</td>\n",
       "      <td>2127.0000</td>\n",
       "      <td>3148.00000</td>\n",
       "      <td>39320.0000</td>\n",
       "    </tr>\n",
       "    <tr>\n",
       "      <th>totalBedrooms</th>\n",
       "      <td>20640.0</td>\n",
       "      <td>537.898014</td>\n",
       "      <td>421.247906</td>\n",
       "      <td>1.0000</td>\n",
       "      <td>295.0000</td>\n",
       "      <td>435.0000</td>\n",
       "      <td>647.00000</td>\n",
       "      <td>6445.0000</td>\n",
       "    </tr>\n",
       "    <tr>\n",
       "      <th>population</th>\n",
       "      <td>20640.0</td>\n",
       "      <td>1425.476744</td>\n",
       "      <td>1132.462122</td>\n",
       "      <td>3.0000</td>\n",
       "      <td>787.0000</td>\n",
       "      <td>1166.0000</td>\n",
       "      <td>1725.00000</td>\n",
       "      <td>35682.0000</td>\n",
       "    </tr>\n",
       "    <tr>\n",
       "      <th>households</th>\n",
       "      <td>20640.0</td>\n",
       "      <td>499.539680</td>\n",
       "      <td>382.329753</td>\n",
       "      <td>1.0000</td>\n",
       "      <td>280.0000</td>\n",
       "      <td>409.0000</td>\n",
       "      <td>605.00000</td>\n",
       "      <td>6082.0000</td>\n",
       "    </tr>\n",
       "    <tr>\n",
       "      <th>medianIncome</th>\n",
       "      <td>20640.0</td>\n",
       "      <td>3.870671</td>\n",
       "      <td>1.899822</td>\n",
       "      <td>0.4999</td>\n",
       "      <td>2.5634</td>\n",
       "      <td>3.5348</td>\n",
       "      <td>4.74325</td>\n",
       "      <td>15.0001</td>\n",
       "    </tr>\n",
       "    <tr>\n",
       "      <th>medianHouseValue</th>\n",
       "      <td>20640.0</td>\n",
       "      <td>206855.816909</td>\n",
       "      <td>115395.615874</td>\n",
       "      <td>14999.0000</td>\n",
       "      <td>119600.0000</td>\n",
       "      <td>179700.0000</td>\n",
       "      <td>264725.00000</td>\n",
       "      <td>500001.0000</td>\n",
       "    </tr>\n",
       "  </tbody>\n",
       "</table>\n",
       "</div>"
      ],
      "text/plain": [
       "                    count           mean            std         min  \\\n",
       "housingMedianAge  20640.0      28.639486      12.585558      1.0000   \n",
       "totalRooms        20640.0    2635.763081    2181.615252      2.0000   \n",
       "totalBedrooms     20640.0     537.898014     421.247906      1.0000   \n",
       "population        20640.0    1425.476744    1132.462122      3.0000   \n",
       "households        20640.0     499.539680     382.329753      1.0000   \n",
       "medianIncome      20640.0       3.870671       1.899822      0.4999   \n",
       "medianHouseValue  20640.0  206855.816909  115395.615874  14999.0000   \n",
       "\n",
       "                          25%          50%           75%          max  \n",
       "housingMedianAge      18.0000      29.0000      37.00000      52.0000  \n",
       "totalRooms          1447.7500    2127.0000    3148.00000   39320.0000  \n",
       "totalBedrooms        295.0000     435.0000     647.00000    6445.0000  \n",
       "population           787.0000    1166.0000    1725.00000   35682.0000  \n",
       "households           280.0000     409.0000     605.00000    6082.0000  \n",
       "medianIncome           2.5634       3.5348       4.74325      15.0001  \n",
       "medianHouseValue  119600.0000  179700.0000  264725.00000  500001.0000  "
      ]
     },
     "execution_count": 154,
     "metadata": {},
     "output_type": "execute_result"
    }
   ],
   "source": [
    "housing.describe().transpose()"
   ]
  },
  {
   "cell_type": "code",
   "execution_count": 155,
   "metadata": {
    "scrolled": true
   },
   "outputs": [],
   "source": [
    "x_data = housing.drop(['medianHouseValue'],axis=1)"
   ]
  },
  {
   "cell_type": "code",
   "execution_count": 156,
   "metadata": {},
   "outputs": [],
   "source": [
    "y_val = housing['medianHouseValue']"
   ]
  },
  {
   "cell_type": "code",
   "execution_count": 157,
   "metadata": {},
   "outputs": [],
   "source": [
    "from sklearn.model_selection import train_test_split"
   ]
  },
  {
   "cell_type": "code",
   "execution_count": 158,
   "metadata": {},
   "outputs": [],
   "source": [
    "X_train, X_test, y_train, y_test = train_test_split(x_data,y_val,test_size=0.3,random_state=101)"
   ]
  },
  {
   "cell_type": "markdown",
   "metadata": {},
   "source": [
    "### Scale the Feature Data\n",
    "\n",
    "** Use sklearn preprocessing to create a MinMaxScaler for the feature data. Fit this scaler only to the training data. Then use it to transform X_test and X_train. Then use the scaled X_test and X_train along with pd.Dataframe to re-create two dataframes of scaled data.**"
   ]
  },
  {
   "cell_type": "code",
   "execution_count": 159,
   "metadata": {},
   "outputs": [],
   "source": [
    "from sklearn.preprocessing import MinMaxScaler"
   ]
  },
  {
   "cell_type": "code",
   "execution_count": 160,
   "metadata": {},
   "outputs": [],
   "source": [
    "scaler = MinMaxScaler()"
   ]
  },
  {
   "cell_type": "code",
   "execution_count": 161,
   "metadata": {},
   "outputs": [
    {
     "data": {
      "text/plain": [
       "MinMaxScaler()"
      ]
     },
     "execution_count": 161,
     "metadata": {},
     "output_type": "execute_result"
    }
   ],
   "source": [
    "scaler.fit(X_train)"
   ]
  },
  {
   "cell_type": "code",
   "execution_count": 162,
   "metadata": {},
   "outputs": [],
   "source": [
    "X_train = pd.DataFrame(data=scaler.transform(X_train),columns = X_train.columns,index=X_train.index)"
   ]
  },
  {
   "cell_type": "code",
   "execution_count": 163,
   "metadata": {},
   "outputs": [],
   "source": [
    "X_test = pd.DataFrame(data=scaler.transform(X_test),columns = X_test.columns,index=X_test.index)"
   ]
  },
  {
   "cell_type": "markdown",
   "metadata": {},
   "source": [
    "### Create Feature Columns\n",
    "\n",
    "** Create the necessary tf.feature_column objects for the estimator. They should all be trated as continuous numeric_columns. **"
   ]
  },
  {
   "cell_type": "code",
   "execution_count": 164,
   "metadata": {},
   "outputs": [
    {
     "data": {
      "text/plain": [
       "Index(['housingMedianAge', 'totalRooms', 'totalBedrooms', 'population',\n",
       "       'households', 'medianIncome', 'medianHouseValue'],\n",
       "      dtype='object')"
      ]
     },
     "execution_count": 164,
     "metadata": {},
     "output_type": "execute_result"
    }
   ],
   "source": [
    "housing.columns"
   ]
  },
  {
   "cell_type": "code",
   "execution_count": 165,
   "metadata": {},
   "outputs": [],
   "source": [
    "import tensorflow.compat.v1 as tf\n",
    "\n",
    "tf.disable_v2_behavior()"
   ]
  },
  {
   "cell_type": "code",
   "execution_count": 166,
   "metadata": {},
   "outputs": [],
   "source": [
    "age = tf.feature_column.numeric_column('housingMedianAge')\n",
    "rooms = tf.feature_column.numeric_column('totalRooms')\n",
    "bedrooms = tf.feature_column.numeric_column('totalBedrooms')\n",
    "pop = tf.feature_column.numeric_column('population')\n",
    "households = tf.feature_column.numeric_column('households')\n",
    "income = tf.feature_column.numeric_column('medianIncome')"
   ]
  },
  {
   "cell_type": "code",
   "execution_count": 167,
   "metadata": {},
   "outputs": [],
   "source": [
    "feat_cols = [ age,rooms,bedrooms,pop,households,income]"
   ]
  },
  {
   "cell_type": "markdown",
   "metadata": {},
   "source": [
    "** Create the input function for the estimator object. (play around with batch_size and num_epochs)**"
   ]
  },
  {
   "cell_type": "code",
   "execution_count": 168,
   "metadata": {},
   "outputs": [],
   "source": [
    "input_func = tf.estimator.inputs.pandas_input_fn(x=X_train,y=y_train ,batch_size=10,num_epochs=1000,\n",
    "                                            shuffle=True)"
   ]
  },
  {
   "cell_type": "markdown",
   "metadata": {},
   "source": [
    "** Create the estimator model. Use a DNNRegressor. Play around with the hidden units! **"
   ]
  },
  {
   "cell_type": "code",
   "execution_count": 169,
   "metadata": {},
   "outputs": [
    {
     "name": "stdout",
     "output_type": "stream",
     "text": [
      "INFO:tensorflow:Using default config.\n",
      "WARNING:tensorflow:Using temporary folder as model directory: C:\\Users\\Rachit\\AppData\\Local\\Temp\\tmpotkb719q\n",
      "INFO:tensorflow:Using config: {'_model_dir': 'C:\\\\Users\\\\Rachit\\\\AppData\\\\Local\\\\Temp\\\\tmpotkb719q', '_tf_random_seed': None, '_save_summary_steps': 100, '_save_checkpoints_steps': None, '_save_checkpoints_secs': 600, '_session_config': allow_soft_placement: true\n",
      "graph_options {\n",
      "  rewrite_options {\n",
      "    meta_optimizer_iterations: ONE\n",
      "  }\n",
      "}\n",
      ", '_keep_checkpoint_max': 5, '_keep_checkpoint_every_n_hours': 10000, '_log_step_count_steps': 100, '_train_distribute': None, '_device_fn': None, '_protocol': None, '_eval_distribute': None, '_experimental_distribute': None, '_experimental_max_worker_delay_secs': None, '_session_creation_timeout_secs': 7200, '_service': None, '_cluster_spec': ClusterSpec({}), '_task_type': 'worker', '_task_id': 0, '_global_id_in_cluster': 0, '_master': '', '_evaluation_master': '', '_is_chief': True, '_num_ps_replicas': 0, '_num_worker_replicas': 1}\n"
     ]
    }
   ],
   "source": [
    "model = tf.estimator.DNNRegressor(hidden_units=[6,6,6],feature_columns=feat_cols)"
   ]
  },
  {
   "cell_type": "markdown",
   "metadata": {},
   "source": [
    "##### ** Train the model for ~1,000 steps. (Later come back to this and train it for more and check for improvement) **"
   ]
  },
  {
   "cell_type": "code",
   "execution_count": 170,
   "metadata": {},
   "outputs": [
    {
     "name": "stdout",
     "output_type": "stream",
     "text": [
      "INFO:tensorflow:Calling model_fn.\n",
      "INFO:tensorflow:Done calling model_fn.\n",
      "INFO:tensorflow:Create CheckpointSaverHook.\n",
      "INFO:tensorflow:Graph was finalized.\n",
      "INFO:tensorflow:Running local_init_op.\n",
      "INFO:tensorflow:Done running local_init_op.\n",
      "INFO:tensorflow:Calling checkpoint listeners before saving checkpoint 0...\n",
      "INFO:tensorflow:Saving checkpoints for 0 into C:\\Users\\Rachit\\AppData\\Local\\Temp\\tmpotkb719q\\model.ckpt.\n",
      "INFO:tensorflow:Calling checkpoint listeners after saving checkpoint 0...\n",
      "INFO:tensorflow:loss = 189948350000.0, step = 1\n",
      "INFO:tensorflow:global_step/sec: 818.843\n",
      "INFO:tensorflow:loss = 1142133600000.0, step = 101 (0.122 sec)\n",
      "INFO:tensorflow:global_step/sec: 1012.54\n",
      "INFO:tensorflow:loss = 546433400000.0, step = 201 (0.100 sec)\n",
      "INFO:tensorflow:global_step/sec: 1012.8\n",
      "INFO:tensorflow:loss = 581076800000.0, step = 301 (0.098 sec)\n",
      "INFO:tensorflow:global_step/sec: 1055.45\n",
      "INFO:tensorflow:loss = 437995000000.0, step = 401 (0.096 sec)\n",
      "INFO:tensorflow:global_step/sec: 1023.14\n",
      "INFO:tensorflow:loss = 447429280000.0, step = 501 (0.097 sec)\n",
      "INFO:tensorflow:global_step/sec: 1044.45\n",
      "INFO:tensorflow:loss = 418892250000.0, step = 601 (0.097 sec)\n",
      "INFO:tensorflow:global_step/sec: 1005.75\n",
      "INFO:tensorflow:loss = 594517160000.0, step = 701 (0.099 sec)\n",
      "INFO:tensorflow:global_step/sec: 849.727\n",
      "INFO:tensorflow:loss = 480470270000.0, step = 801 (0.118 sec)\n",
      "INFO:tensorflow:global_step/sec: 864.368\n",
      "INFO:tensorflow:loss = 379056750000.0, step = 901 (0.116 sec)\n",
      "INFO:tensorflow:global_step/sec: 983.016\n",
      "INFO:tensorflow:loss = 397222500000.0, step = 1001 (0.101 sec)\n",
      "INFO:tensorflow:global_step/sec: 1002.67\n",
      "INFO:tensorflow:loss = 386493970000.0, step = 1101 (0.100 sec)\n",
      "INFO:tensorflow:global_step/sec: 1049\n",
      "INFO:tensorflow:loss = 322975240000.0, step = 1201 (0.095 sec)\n",
      "INFO:tensorflow:global_step/sec: 1033.7\n",
      "INFO:tensorflow:loss = 198607010000.0, step = 1301 (0.097 sec)\n",
      "INFO:tensorflow:global_step/sec: 951.104\n",
      "INFO:tensorflow:loss = 153495080000.0, step = 1401 (0.107 sec)\n",
      "INFO:tensorflow:global_step/sec: 813.61\n",
      "INFO:tensorflow:loss = 194079050000.0, step = 1501 (0.121 sec)\n",
      "INFO:tensorflow:global_step/sec: 914.162\n",
      "INFO:tensorflow:loss = 145495740000.0, step = 1601 (0.110 sec)\n",
      "INFO:tensorflow:global_step/sec: 1044.44\n",
      "INFO:tensorflow:loss = 130432350000.0, step = 1701 (0.096 sec)\n",
      "INFO:tensorflow:global_step/sec: 1055.45\n",
      "INFO:tensorflow:loss = 116089210000.0, step = 1801 (0.095 sec)\n",
      "INFO:tensorflow:global_step/sec: 1044.12\n",
      "INFO:tensorflow:loss = 64802360000.0, step = 1901 (0.095 sec)\n",
      "INFO:tensorflow:global_step/sec: 945.918\n",
      "INFO:tensorflow:loss = 209411420000.0, step = 2001 (0.106 sec)\n",
      "INFO:tensorflow:global_step/sec: 847.421\n",
      "INFO:tensorflow:loss = 47114887000.0, step = 2101 (0.118 sec)\n",
      "INFO:tensorflow:global_step/sec: 856.988\n",
      "INFO:tensorflow:loss = 92025640000.0, step = 2201 (0.117 sec)\n",
      "INFO:tensorflow:global_step/sec: 1023.13\n",
      "INFO:tensorflow:loss = 47907690000.0, step = 2301 (0.098 sec)\n",
      "INFO:tensorflow:global_step/sec: 1053.67\n",
      "INFO:tensorflow:loss = 138817800000.0, step = 2401 (0.096 sec)\n",
      "INFO:tensorflow:global_step/sec: 1033.68\n",
      "INFO:tensorflow:loss = 47812760000.0, step = 2501 (0.097 sec)\n",
      "INFO:tensorflow:global_step/sec: 1002.66\n",
      "INFO:tensorflow:loss = 37947920000.0, step = 2601 (0.100 sec)\n",
      "INFO:tensorflow:global_step/sec: 828.67\n",
      "INFO:tensorflow:loss = 28503286000.0, step = 2701 (0.121 sec)\n",
      "INFO:tensorflow:global_step/sec: 864.367\n",
      "INFO:tensorflow:loss = 70294680000.0, step = 2801 (0.116 sec)\n",
      "INFO:tensorflow:global_step/sec: 983.021\n",
      "INFO:tensorflow:loss = 76578710000.0, step = 2901 (0.102 sec)\n",
      "INFO:tensorflow:global_step/sec: 1044.44\n",
      "INFO:tensorflow:loss = 130515034000.0, step = 3001 (0.095 sec)\n",
      "INFO:tensorflow:global_step/sec: 1014.3\n",
      "INFO:tensorflow:loss = 100606980000.0, step = 3101 (0.100 sec)\n",
      "INFO:tensorflow:global_step/sec: 973.466\n",
      "INFO:tensorflow:loss = 49333050000.0, step = 3201 (0.102 sec)\n",
      "INFO:tensorflow:global_step/sec: 865.547\n",
      "INFO:tensorflow:loss = 58991526000.0, step = 3301 (0.117 sec)\n",
      "INFO:tensorflow:global_step/sec: 842.753\n",
      "INFO:tensorflow:loss = 47753265000.0, step = 3401 (0.118 sec)\n",
      "INFO:tensorflow:global_step/sec: 1012.8\n",
      "INFO:tensorflow:loss = 66174288000.0, step = 3501 (0.099 sec)\n",
      "INFO:tensorflow:global_step/sec: 992.749\n",
      "INFO:tensorflow:loss = 165010520000.0, step = 3601 (0.102 sec)\n",
      "INFO:tensorflow:global_step/sec: 1012.8\n",
      "INFO:tensorflow:loss = 72370470000.0, step = 3701 (0.098 sec)\n",
      "INFO:tensorflow:global_step/sec: 1012.8\n",
      "INFO:tensorflow:loss = 148202260000.0, step = 3801 (0.099 sec)\n",
      "INFO:tensorflow:global_step/sec: 928.403\n",
      "INFO:tensorflow:loss = 247814750000.0, step = 3901 (0.109 sec)\n",
      "INFO:tensorflow:global_step/sec: 856.984\n",
      "INFO:tensorflow:loss = 114721350000.0, step = 4001 (0.117 sec)\n",
      "INFO:tensorflow:global_step/sec: 849.724\n",
      "INFO:tensorflow:loss = 153536920000.0, step = 4101 (0.118 sec)\n",
      "INFO:tensorflow:global_step/sec: 928.408\n",
      "INFO:tensorflow:loss = 82459090000.0, step = 4201 (0.108 sec)\n",
      "INFO:tensorflow:global_step/sec: 1012.8\n",
      "INFO:tensorflow:loss = 105313330000.0, step = 4301 (0.098 sec)\n",
      "INFO:tensorflow:global_step/sec: 1023.13\n",
      "INFO:tensorflow:loss = 121886640000.0, step = 4401 (0.098 sec)\n",
      "INFO:tensorflow:global_step/sec: 1016.84\n",
      "INFO:tensorflow:loss = 69896850000.0, step = 4501 (0.099 sec)\n",
      "INFO:tensorflow:global_step/sec: 844.477\n",
      "INFO:tensorflow:loss = 72265980000.0, step = 4601 (0.119 sec)\n",
      "INFO:tensorflow:global_step/sec: 871.908\n",
      "INFO:tensorflow:loss = 130146540000.0, step = 4701 (0.114 sec)\n",
      "INFO:tensorflow:global_step/sec: 881.662\n",
      "INFO:tensorflow:loss = 75283160000.0, step = 4801 (0.112 sec)\n",
      "INFO:tensorflow:global_step/sec: 1030.02\n",
      "INFO:tensorflow:loss = 169711030000.0, step = 4901 (0.097 sec)\n",
      "INFO:tensorflow:global_step/sec: 1075.48\n",
      "INFO:tensorflow:loss = 124678775000.0, step = 5001 (0.094 sec)\n",
      "INFO:tensorflow:global_step/sec: 1062.09\n",
      "INFO:tensorflow:loss = 84534600000.0, step = 5101 (0.094 sec)\n",
      "INFO:tensorflow:global_step/sec: 1088.48\n",
      "INFO:tensorflow:loss = 75261200000.0, step = 5201 (0.091 sec)\n",
      "INFO:tensorflow:global_step/sec: 903.308\n",
      "INFO:tensorflow:loss = 54820266000.0, step = 5301 (0.112 sec)\n",
      "INFO:tensorflow:global_step/sec: 895.245\n",
      "INFO:tensorflow:loss = 226518860000.0, step = 5401 (0.112 sec)\n",
      "INFO:tensorflow:global_step/sec: 871.886\n",
      "INFO:tensorflow:loss = 91513440000.0, step = 5501 (0.115 sec)\n",
      "INFO:tensorflow:global_step/sec: 1066.68\n",
      "INFO:tensorflow:loss = 117376640000.0, step = 5601 (0.094 sec)\n",
      "INFO:tensorflow:global_step/sec: 1055.44\n",
      "INFO:tensorflow:loss = 62861180000.0, step = 5701 (0.094 sec)\n",
      "INFO:tensorflow:global_step/sec: 1055.44\n",
      "INFO:tensorflow:loss = 201509270000.0, step = 5801 (0.096 sec)\n",
      "INFO:tensorflow:global_step/sec: 973.47\n",
      "INFO:tensorflow:loss = 23930305000.0, step = 5901 (0.103 sec)\n",
      "INFO:tensorflow:global_step/sec: 856.988\n",
      "INFO:tensorflow:loss = 137376760000.0, step = 6001 (0.117 sec)\n",
      "INFO:tensorflow:global_step/sec: 835.56\n",
      "INFO:tensorflow:loss = 128846120000.0, step = 6101 (0.119 sec)\n",
      "INFO:tensorflow:global_step/sec: 973.468\n",
      "INFO:tensorflow:loss = 87750115000.0, step = 6201 (0.103 sec)\n",
      "INFO:tensorflow:global_step/sec: 1144.06\n",
      "INFO:tensorflow:loss = 185348490000.0, step = 6301 (0.088 sec)\n",
      "INFO:tensorflow:global_step/sec: 1086.11\n",
      "INFO:tensorflow:loss = 94285320000.0, step = 6401 (0.092 sec)\n",
      "INFO:tensorflow:global_step/sec: 1060.74\n",
      "INFO:tensorflow:loss = 80147270000.0, step = 6501 (0.094 sec)\n",
      "INFO:tensorflow:global_step/sec: 1078.15\n",
      "INFO:tensorflow:loss = 68332020000.0, step = 6601 (0.093 sec)\n",
      "INFO:tensorflow:global_step/sec: 812.324\n",
      "INFO:tensorflow:loss = 51899486000.0, step = 6701 (0.123 sec)\n",
      "INFO:tensorflow:global_step/sec: 878.981\n",
      "INFO:tensorflow:loss = 137051670000.0, step = 6801 (0.114 sec)\n",
      "INFO:tensorflow:global_step/sec: 1013.33\n",
      "INFO:tensorflow:loss = 103230005000.0, step = 6901 (0.099 sec)\n",
      "INFO:tensorflow:global_step/sec: 1066.68\n",
      "INFO:tensorflow:loss = 62599033000.0, step = 7001 (0.093 sec)\n",
      "INFO:tensorflow:global_step/sec: 1078.14\n",
      "INFO:tensorflow:loss = 85896400000.0, step = 7101 (0.093 sec)\n",
      "INFO:tensorflow:global_step/sec: 1089.86\n",
      "INFO:tensorflow:loss = 101570190000.0, step = 7201 (0.092 sec)\n",
      "INFO:tensorflow:global_step/sec: 1044.45\n",
      "INFO:tensorflow:loss = 96231840000.0, step = 7301 (0.097 sec)\n",
      "INFO:tensorflow:global_step/sec: 1078.15\n",
      "INFO:tensorflow:loss = 61117465000.0, step = 7401 (0.093 sec)\n",
      "INFO:tensorflow:global_step/sec: 798.676\n"
     ]
    },
    {
     "name": "stdout",
     "output_type": "stream",
     "text": [
      "INFO:tensorflow:loss = 236785860000.0, step = 7501 (0.124 sec)\n",
      "INFO:tensorflow:global_step/sec: 887.317\n",
      "INFO:tensorflow:loss = 32176652000.0, step = 7601 (0.113 sec)\n",
      "INFO:tensorflow:global_step/sec: 1055.45\n",
      "INFO:tensorflow:loss = 81342230000.0, step = 7701 (0.095 sec)\n",
      "INFO:tensorflow:global_step/sec: 1066.67\n",
      "INFO:tensorflow:loss = 42372137000.0, step = 7801 (0.095 sec)\n",
      "INFO:tensorflow:global_step/sec: 1066.68\n",
      "INFO:tensorflow:loss = 125707930000.0, step = 7901 (0.093 sec)\n",
      "INFO:tensorflow:global_step/sec: 1066.67\n",
      "INFO:tensorflow:loss = 121989480000.0, step = 8001 (0.095 sec)\n",
      "INFO:tensorflow:global_step/sec: 1066.68\n",
      "INFO:tensorflow:loss = 69987205000.0, step = 8101 (0.093 sec)\n",
      "INFO:tensorflow:global_step/sec: 1058.17\n",
      "INFO:tensorflow:loss = 178445600000.0, step = 8201 (0.095 sec)\n",
      "INFO:tensorflow:global_step/sec: 1077.44\n",
      "INFO:tensorflow:loss = 55385145000.0, step = 8301 (0.092 sec)\n",
      "INFO:tensorflow:global_step/sec: 1066.67\n",
      "INFO:tensorflow:loss = 42110816000.0, step = 8401 (0.095 sec)\n",
      "INFO:tensorflow:global_step/sec: 1044.45\n",
      "INFO:tensorflow:loss = 64915223000.0, step = 8501 (0.095 sec)\n",
      "INFO:tensorflow:global_step/sec: 1055.44\n",
      "INFO:tensorflow:loss = 52015256000.0, step = 8601 (0.095 sec)\n",
      "INFO:tensorflow:global_step/sec: 1139.42\n",
      "INFO:tensorflow:loss = 148442050000.0, step = 8701 (0.088 sec)\n",
      "INFO:tensorflow:global_step/sec: 1078.15\n",
      "INFO:tensorflow:loss = 64626760000.0, step = 8801 (0.094 sec)\n",
      "INFO:tensorflow:global_step/sec: 1126.59\n",
      "INFO:tensorflow:loss = 67803470000.0, step = 8901 (0.088 sec)\n",
      "INFO:tensorflow:global_step/sec: 1089.86\n",
      "INFO:tensorflow:loss = 148587950000.0, step = 9001 (0.093 sec)\n",
      "INFO:tensorflow:global_step/sec: 1066.68\n",
      "INFO:tensorflow:loss = 126558945000.0, step = 9101 (0.093 sec)\n",
      "INFO:tensorflow:global_step/sec: 1044.45\n",
      "INFO:tensorflow:loss = 139825730000.0, step = 9201 (0.096 sec)\n",
      "INFO:tensorflow:global_step/sec: 1055.44\n",
      "INFO:tensorflow:loss = 128870105000.0, step = 9301 (0.095 sec)\n",
      "INFO:tensorflow:global_step/sec: 1101.85\n",
      "INFO:tensorflow:loss = 123411360000.0, step = 9401 (0.091 sec)\n",
      "INFO:tensorflow:global_step/sec: 1101.79\n",
      "INFO:tensorflow:loss = 132780170000.0, step = 9501 (0.092 sec)\n",
      "INFO:tensorflow:global_step/sec: 1023.14\n",
      "INFO:tensorflow:loss = 86177820000.0, step = 9601 (0.098 sec)\n",
      "INFO:tensorflow:global_step/sec: 1044.45\n",
      "INFO:tensorflow:loss = 108410180000.0, step = 9701 (0.095 sec)\n",
      "INFO:tensorflow:global_step/sec: 954.301\n",
      "INFO:tensorflow:loss = 187260450000.0, step = 9801 (0.105 sec)\n",
      "INFO:tensorflow:global_step/sec: 862.298\n",
      "INFO:tensorflow:loss = 72974420000.0, step = 9901 (0.116 sec)\n",
      "INFO:tensorflow:global_step/sec: 954.931\n",
      "INFO:tensorflow:loss = 62204310000.0, step = 10001 (0.105 sec)\n",
      "INFO:tensorflow:global_step/sec: 1055.44\n",
      "INFO:tensorflow:loss = 136841260000.0, step = 10101 (0.095 sec)\n",
      "INFO:tensorflow:global_step/sec: 1066.67\n",
      "INFO:tensorflow:loss = 121449990000.0, step = 10201 (0.095 sec)\n",
      "INFO:tensorflow:global_step/sec: 1002.68\n",
      "INFO:tensorflow:loss = 105559720000.0, step = 10301 (0.099 sec)\n",
      "INFO:tensorflow:global_step/sec: 1078.14\n",
      "INFO:tensorflow:loss = 145509170000.0, step = 10401 (0.094 sec)\n",
      "INFO:tensorflow:global_step/sec: 1066.03\n",
      "INFO:tensorflow:loss = 53661760000.0, step = 10501 (0.094 sec)\n",
      "INFO:tensorflow:global_step/sec: 1002.67\n",
      "INFO:tensorflow:loss = 58727130000.0, step = 10601 (0.100 sec)\n",
      "INFO:tensorflow:global_step/sec: 1078.14\n",
      "INFO:tensorflow:loss = 202589620000.0, step = 10701 (0.092 sec)\n",
      "INFO:tensorflow:global_step/sec: 1089.87\n",
      "INFO:tensorflow:loss = 58132320000.0, step = 10801 (0.093 sec)\n",
      "INFO:tensorflow:global_step/sec: 1055.43\n",
      "INFO:tensorflow:loss = 56456327000.0, step = 10901 (0.094 sec)\n",
      "INFO:tensorflow:global_step/sec: 1066.69\n",
      "INFO:tensorflow:loss = 194866050000.0, step = 11001 (0.094 sec)\n",
      "INFO:tensorflow:global_step/sec: 1144.72\n",
      "INFO:tensorflow:loss = 184284920000.0, step = 11101 (0.087 sec)\n",
      "INFO:tensorflow:global_step/sec: 954.922\n",
      "INFO:tensorflow:loss = 68960720000.0, step = 11201 (0.107 sec)\n",
      "INFO:tensorflow:global_step/sec: 864.383\n",
      "INFO:tensorflow:loss = 214444770000.0, step = 11301 (0.117 sec)\n",
      "INFO:tensorflow:global_step/sec: 972.655\n",
      "INFO:tensorflow:loss = 87346510000.0, step = 11401 (0.101 sec)\n",
      "INFO:tensorflow:global_step/sec: 1065.51\n",
      "INFO:tensorflow:loss = 112170970000.0, step = 11501 (0.094 sec)\n",
      "INFO:tensorflow:global_step/sec: 1023.15\n",
      "INFO:tensorflow:loss = 244218530000.0, step = 11601 (0.097 sec)\n",
      "INFO:tensorflow:global_step/sec: 1055.44\n",
      "INFO:tensorflow:loss = 76794855000.0, step = 11701 (0.095 sec)\n",
      "INFO:tensorflow:global_step/sec: 1066.67\n",
      "INFO:tensorflow:loss = 83133060000.0, step = 11801 (0.094 sec)\n",
      "INFO:tensorflow:global_step/sec: 1078.15\n",
      "INFO:tensorflow:loss = 70105780000.0, step = 11901 (0.093 sec)\n",
      "INFO:tensorflow:global_step/sec: 1066.68\n",
      "INFO:tensorflow:loss = 117049320000.0, step = 12001 (0.095 sec)\n",
      "INFO:tensorflow:global_step/sec: 1044.45\n",
      "INFO:tensorflow:loss = 141130420000.0, step = 12101 (0.095 sec)\n",
      "INFO:tensorflow:global_step/sec: 1055.44\n",
      "INFO:tensorflow:loss = 84901950000.0, step = 12201 (0.095 sec)\n",
      "INFO:tensorflow:global_step/sec: 1078.15\n",
      "INFO:tensorflow:loss = 97162950000.0, step = 12301 (0.093 sec)\n",
      "INFO:tensorflow:global_step/sec: 937.078\n",
      "INFO:tensorflow:loss = 38790770000.0, step = 12401 (0.107 sec)\n",
      "INFO:tensorflow:global_step/sec: 899.112\n",
      "INFO:tensorflow:loss = 107042300000.0, step = 12501 (0.112 sec)\n",
      "INFO:tensorflow:global_step/sec: 850.028\n",
      "INFO:tensorflow:loss = 146286850000.0, step = 12601 (0.118 sec)\n",
      "INFO:tensorflow:global_step/sec: 996.416\n",
      "INFO:tensorflow:loss = 102024460000.0, step = 12701 (0.100 sec)\n",
      "INFO:tensorflow:global_step/sec: 1066.67\n",
      "INFO:tensorflow:loss = 59062710000.0, step = 12801 (0.093 sec)\n",
      "INFO:tensorflow:global_step/sec: 1078.16\n",
      "INFO:tensorflow:loss = 124089300000.0, step = 12901 (0.094 sec)\n",
      "INFO:tensorflow:global_step/sec: 1083.43\n",
      "INFO:tensorflow:loss = 102264080000.0, step = 13001 (0.092 sec)\n",
      "INFO:tensorflow:global_step/sec: 975.152\n",
      "INFO:tensorflow:loss = 98668990000.0, step = 13101 (0.104 sec)\n",
      "INFO:tensorflow:global_step/sec: 864.374\n",
      "INFO:tensorflow:loss = 59775280000.0, step = 13201 (0.115 sec)\n",
      "INFO:tensorflow:global_step/sec: 954.957\n",
      "INFO:tensorflow:loss = 99269165000.0, step = 13301 (0.105 sec)\n",
      "INFO:tensorflow:global_step/sec: 1055.44\n",
      "INFO:tensorflow:loss = 93759780000.0, step = 13401 (0.095 sec)\n",
      "INFO:tensorflow:global_step/sec: 1101.84\n",
      "INFO:tensorflow:loss = 59512885000.0, step = 13501 (0.091 sec)\n",
      "INFO:tensorflow:global_step/sec: 1044.45\n",
      "INFO:tensorflow:loss = 160073060000.0, step = 13601 (0.096 sec)\n",
      "INFO:tensorflow:global_step/sec: 1139.4\n",
      "INFO:tensorflow:loss = 110024080000.0, step = 13701 (0.087 sec)\n",
      "INFO:tensorflow:global_step/sec: 1114.08\n",
      "INFO:tensorflow:loss = 63239918000.0, step = 13801 (0.091 sec)\n",
      "INFO:tensorflow:global_step/sec: 1055.45\n",
      "INFO:tensorflow:loss = 90307396000.0, step = 13901 (0.094 sec)\n",
      "INFO:tensorflow:global_step/sec: 1101.83\n",
      "INFO:tensorflow:loss = 86196896000.0, step = 14001 (0.091 sec)\n",
      "INFO:tensorflow:global_step/sec: 1023.15\n",
      "INFO:tensorflow:loss = 41521710000.0, step = 14101 (0.099 sec)\n",
      "INFO:tensorflow:global_step/sec: 987.434\n",
      "INFO:tensorflow:loss = 132115660000.0, step = 14201 (0.101 sec)\n",
      "INFO:tensorflow:global_step/sec: 887.319\n",
      "INFO:tensorflow:loss = 293574700000.0, step = 14301 (0.112 sec)\n",
      "INFO:tensorflow:global_step/sec: 871.89\n",
      "INFO:tensorflow:loss = 106152900000.0, step = 14401 (0.116 sec)\n",
      "INFO:tensorflow:global_step/sec: 1032.18\n",
      "INFO:tensorflow:loss = 92127780000.0, step = 14501 (0.096 sec)\n",
      "INFO:tensorflow:global_step/sec: 1049.69\n",
      "INFO:tensorflow:loss = 51401093000.0, step = 14601 (0.095 sec)\n",
      "INFO:tensorflow:global_step/sec: 1017.32\n",
      "INFO:tensorflow:loss = 58807304000.0, step = 14701 (0.098 sec)\n",
      "INFO:tensorflow:global_step/sec: 1038.81\n",
      "INFO:tensorflow:loss = 108510130000.0, step = 14801 (0.096 sec)\n",
      "INFO:tensorflow:global_step/sec: 1066.67\n",
      "INFO:tensorflow:loss = 62777377000.0, step = 14901 (0.094 sec)\n",
      "INFO:tensorflow:global_step/sec: 1033.68\n",
      "INFO:tensorflow:loss = 96683330000.0, step = 15001 (0.097 sec)\n",
      "INFO:tensorflow:global_step/sec: 1044.45\n",
      "INFO:tensorflow:loss = 153693360000.0, step = 15101 (0.096 sec)\n",
      "INFO:tensorflow:global_step/sec: 1055.45\n",
      "INFO:tensorflow:loss = 21270500000.0, step = 15201 (0.095 sec)\n",
      "INFO:tensorflow:global_step/sec: 1044.44\n",
      "INFO:tensorflow:loss = 80671170000.0, step = 15301 (0.097 sec)\n",
      "INFO:tensorflow:global_step/sec: 1044.45\n"
     ]
    },
    {
     "name": "stdout",
     "output_type": "stream",
     "text": [
      "INFO:tensorflow:loss = 48691280000.0, step = 15401 (0.095 sec)\n",
      "INFO:tensorflow:global_step/sec: 1089.86\n",
      "INFO:tensorflow:loss = 44095398000.0, step = 15501 (0.093 sec)\n",
      "INFO:tensorflow:global_step/sec: 1060.79\n",
      "INFO:tensorflow:loss = 131827030000.0, step = 15601 (0.093 sec)\n",
      "INFO:tensorflow:global_step/sec: 964.11\n",
      "INFO:tensorflow:loss = 45793866000.0, step = 15701 (0.104 sec)\n",
      "INFO:tensorflow:global_step/sec: 871.892\n",
      "INFO:tensorflow:loss = 73795830000.0, step = 15801 (0.115 sec)\n",
      "INFO:tensorflow:global_step/sec: 1007.5\n",
      "INFO:tensorflow:loss = 203940940000.0, step = 15901 (0.099 sec)\n",
      "INFO:tensorflow:global_step/sec: 1126.6\n",
      "INFO:tensorflow:loss = 109810210000.0, step = 16001 (0.089 sec)\n",
      "INFO:tensorflow:global_step/sec: 1044.45\n",
      "INFO:tensorflow:loss = 163763240000.0, step = 16101 (0.096 sec)\n",
      "INFO:tensorflow:global_step/sec: 1059.71\n",
      "INFO:tensorflow:loss = 223522620000.0, step = 16201 (0.094 sec)\n",
      "INFO:tensorflow:global_step/sec: 1066.67\n",
      "INFO:tensorflow:loss = 105943060000.0, step = 16301 (0.095 sec)\n",
      "INFO:tensorflow:global_step/sec: 1087.98\n",
      "INFO:tensorflow:loss = 90563640000.0, step = 16401 (0.092 sec)\n",
      "INFO:tensorflow:global_step/sec: 1106.92\n",
      "INFO:tensorflow:loss = 70465176000.0, step = 16501 (0.089 sec)\n",
      "INFO:tensorflow:global_step/sec: 1124.81\n",
      "INFO:tensorflow:loss = 62572376000.0, step = 16601 (0.090 sec)\n",
      "INFO:tensorflow:global_step/sec: 1033.69\n",
      "INFO:tensorflow:loss = 73188420000.0, step = 16701 (0.097 sec)\n",
      "INFO:tensorflow:global_step/sec: 1044.44\n",
      "INFO:tensorflow:loss = 83163185000.0, step = 16801 (0.095 sec)\n",
      "INFO:tensorflow:global_step/sec: 1066.68\n",
      "INFO:tensorflow:loss = 77161260000.0, step = 16901 (0.095 sec)\n",
      "INFO:tensorflow:global_step/sec: 557.039\n",
      "INFO:tensorflow:loss = 111988110000.0, step = 17001 (0.180 sec)\n",
      "INFO:tensorflow:global_step/sec: 954.939\n",
      "INFO:tensorflow:loss = 51325723000.0, step = 17101 (0.105 sec)\n",
      "INFO:tensorflow:global_step/sec: 992.735\n",
      "INFO:tensorflow:loss = 87871430000.0, step = 17201 (0.100 sec)\n",
      "INFO:tensorflow:global_step/sec: 1066.69\n",
      "INFO:tensorflow:loss = 78728080000.0, step = 17301 (0.095 sec)\n",
      "INFO:tensorflow:global_step/sec: 1055.44\n",
      "INFO:tensorflow:loss = 92076425000.0, step = 17401 (0.095 sec)\n",
      "INFO:tensorflow:global_step/sec: 1046.91\n",
      "INFO:tensorflow:loss = 38974370000.0, step = 17501 (0.095 sec)\n",
      "INFO:tensorflow:global_step/sec: 1114.08\n",
      "INFO:tensorflow:loss = 42694984000.0, step = 17601 (0.091 sec)\n",
      "INFO:tensorflow:global_step/sec: 1066.67\n",
      "INFO:tensorflow:loss = 185290920000.0, step = 17701 (0.094 sec)\n",
      "INFO:tensorflow:global_step/sec: 1084.82\n",
      "INFO:tensorflow:loss = 86077000000.0, step = 17801 (0.092 sec)\n",
      "INFO:tensorflow:global_step/sec: 1066.29\n",
      "INFO:tensorflow:loss = 138396200000.0, step = 17901 (0.094 sec)\n",
      "INFO:tensorflow:global_step/sec: 1089.94\n",
      "INFO:tensorflow:loss = 82316760000.0, step = 18001 (0.092 sec)\n",
      "INFO:tensorflow:global_step/sec: 1088.81\n",
      "INFO:tensorflow:loss = 122979385000.0, step = 18101 (0.092 sec)\n",
      "INFO:tensorflow:global_step/sec: 1078.13\n",
      "INFO:tensorflow:loss = 81246020000.0, step = 18201 (0.092 sec)\n",
      "INFO:tensorflow:global_step/sec: 1089.86\n",
      "INFO:tensorflow:loss = 62460936000.0, step = 18301 (0.092 sec)\n",
      "INFO:tensorflow:global_step/sec: 1044.46\n",
      "INFO:tensorflow:loss = 49178685000.0, step = 18401 (0.096 sec)\n",
      "INFO:tensorflow:global_step/sec: 1114.08\n",
      "INFO:tensorflow:loss = 53087773000.0, step = 18501 (0.091 sec)\n",
      "INFO:tensorflow:global_step/sec: 1101.85\n",
      "INFO:tensorflow:loss = 108974055000.0, step = 18601 (0.090 sec)\n",
      "INFO:tensorflow:global_step/sec: 1078.14\n",
      "INFO:tensorflow:loss = 90243880000.0, step = 18701 (0.093 sec)\n",
      "INFO:tensorflow:global_step/sec: 1012.8\n",
      "INFO:tensorflow:loss = 139153750000.0, step = 18801 (0.100 sec)\n",
      "INFO:tensorflow:global_step/sec: 1066.68\n",
      "INFO:tensorflow:loss = 53505196000.0, step = 18901 (0.094 sec)\n",
      "INFO:tensorflow:global_step/sec: 1066.66\n",
      "INFO:tensorflow:loss = 64601883000.0, step = 19001 (0.093 sec)\n",
      "INFO:tensorflow:global_step/sec: 1066.68\n",
      "INFO:tensorflow:loss = 76305370000.0, step = 19101 (0.094 sec)\n",
      "INFO:tensorflow:global_step/sec: 1126.6\n",
      "INFO:tensorflow:loss = 66762300000.0, step = 19201 (0.090 sec)\n",
      "INFO:tensorflow:global_step/sec: 1077.48\n",
      "INFO:tensorflow:loss = 190056820000.0, step = 19301 (0.092 sec)\n",
      "INFO:tensorflow:global_step/sec: 1101.84\n",
      "INFO:tensorflow:loss = 145474260000.0, step = 19401 (0.092 sec)\n",
      "INFO:tensorflow:global_step/sec: 1077.06\n",
      "INFO:tensorflow:loss = 59489722000.0, step = 19501 (0.093 sec)\n",
      "INFO:tensorflow:global_step/sec: 1126.61\n",
      "INFO:tensorflow:loss = 162112770000.0, step = 19601 (0.089 sec)\n",
      "INFO:tensorflow:global_step/sec: 1066.67\n",
      "INFO:tensorflow:loss = 149011220000.0, step = 19701 (0.094 sec)\n",
      "INFO:tensorflow:global_step/sec: 1055.45\n",
      "INFO:tensorflow:loss = 191284670000.0, step = 19801 (0.095 sec)\n",
      "INFO:tensorflow:global_step/sec: 1044.45\n",
      "INFO:tensorflow:loss = 65955426000.0, step = 19901 (0.096 sec)\n",
      "INFO:tensorflow:global_step/sec: 1109.66\n",
      "INFO:tensorflow:loss = 100328680000.0, step = 20001 (0.090 sec)\n",
      "INFO:tensorflow:global_step/sec: 1066.67\n",
      "INFO:tensorflow:loss = 39266415000.0, step = 20101 (0.093 sec)\n",
      "INFO:tensorflow:global_step/sec: 1055.45\n",
      "INFO:tensorflow:loss = 65216246000.0, step = 20201 (0.095 sec)\n",
      "INFO:tensorflow:global_step/sec: 1023.14\n",
      "INFO:tensorflow:loss = 77298330000.0, step = 20301 (0.099 sec)\n",
      "INFO:tensorflow:global_step/sec: 1099.87\n",
      "INFO:tensorflow:loss = 101745340000.0, step = 20401 (0.091 sec)\n",
      "INFO:tensorflow:global_step/sec: 1066.68\n",
      "INFO:tensorflow:loss = 105718540000.0, step = 20501 (0.094 sec)\n",
      "INFO:tensorflow:global_step/sec: 1044.45\n",
      "INFO:tensorflow:loss = 52383070000.0, step = 20601 (0.095 sec)\n",
      "INFO:tensorflow:global_step/sec: 1089.86\n",
      "INFO:tensorflow:loss = 101116990000.0, step = 20701 (0.092 sec)\n",
      "INFO:tensorflow:global_step/sec: 1044.46\n",
      "INFO:tensorflow:loss = 151895470000.0, step = 20801 (0.096 sec)\n",
      "INFO:tensorflow:global_step/sec: 1057.86\n",
      "INFO:tensorflow:loss = 42249105000.0, step = 20901 (0.096 sec)\n",
      "INFO:tensorflow:global_step/sec: 1101.11\n",
      "INFO:tensorflow:loss = 87495040000.0, step = 21001 (0.091 sec)\n",
      "INFO:tensorflow:global_step/sec: 1044.45\n",
      "INFO:tensorflow:loss = 98574900000.0, step = 21101 (0.096 sec)\n",
      "INFO:tensorflow:global_step/sec: 1055.45\n",
      "INFO:tensorflow:loss = 117896220000.0, step = 21201 (0.094 sec)\n",
      "INFO:tensorflow:global_step/sec: 1053.97\n",
      "INFO:tensorflow:loss = 49939497000.0, step = 21301 (0.095 sec)\n",
      "INFO:tensorflow:global_step/sec: 1073.18\n",
      "INFO:tensorflow:loss = 84322550000.0, step = 21401 (0.094 sec)\n",
      "INFO:tensorflow:global_step/sec: 1089.29\n",
      "INFO:tensorflow:loss = 144057930000.0, step = 21501 (0.091 sec)\n",
      "INFO:tensorflow:global_step/sec: 1054.19\n",
      "INFO:tensorflow:loss = 66508923000.0, step = 21601 (0.096 sec)\n",
      "INFO:tensorflow:global_step/sec: 1088.08\n",
      "INFO:tensorflow:loss = 62564184000.0, step = 21701 (0.092 sec)\n",
      "INFO:tensorflow:global_step/sec: 1014.92\n",
      "INFO:tensorflow:loss = 104467470000.0, step = 21801 (0.099 sec)\n",
      "INFO:tensorflow:global_step/sec: 1078.14\n",
      "INFO:tensorflow:loss = 97712130000.0, step = 21901 (0.092 sec)\n",
      "INFO:tensorflow:global_step/sec: 1055.45\n",
      "INFO:tensorflow:loss = 91361790000.0, step = 22001 (0.096 sec)\n",
      "INFO:tensorflow:global_step/sec: 1126.6\n",
      "INFO:tensorflow:loss = 65558024000.0, step = 22101 (0.088 sec)\n",
      "INFO:tensorflow:global_step/sec: 1089.86\n",
      "INFO:tensorflow:loss = 210102260000.0, step = 22201 (0.093 sec)\n",
      "INFO:tensorflow:global_step/sec: 1101.85\n",
      "INFO:tensorflow:loss = 88029280000.0, step = 22301 (0.090 sec)\n",
      "INFO:tensorflow:global_step/sec: 1078.14\n",
      "INFO:tensorflow:loss = 83531370000.0, step = 22401 (0.093 sec)\n",
      "INFO:tensorflow:global_step/sec: 1078.14\n",
      "INFO:tensorflow:loss = 116348780000.0, step = 22501 (0.094 sec)\n",
      "INFO:tensorflow:global_step/sec: 1089.87\n",
      "INFO:tensorflow:loss = 99791266000.0, step = 22601 (0.091 sec)\n",
      "INFO:tensorflow:global_step/sec: 1066.67\n",
      "INFO:tensorflow:loss = 35050123000.0, step = 22701 (0.095 sec)\n",
      "INFO:tensorflow:global_step/sec: 1078.15\n",
      "INFO:tensorflow:loss = 65455040000.0, step = 22801 (0.092 sec)\n",
      "INFO:tensorflow:global_step/sec: 1028.86\n",
      "INFO:tensorflow:loss = 128443400000.0, step = 22901 (0.097 sec)\n",
      "INFO:tensorflow:global_step/sec: 1078.14\n",
      "INFO:tensorflow:loss = 152988250000.0, step = 23001 (0.093 sec)\n",
      "INFO:tensorflow:global_step/sec: 828.657\n",
      "INFO:tensorflow:loss = 92067815000.0, step = 23101 (0.122 sec)\n",
      "INFO:tensorflow:global_step/sec: 1044.45\n",
      "INFO:tensorflow:loss = 43212734000.0, step = 23201 (0.095 sec)\n"
     ]
    },
    {
     "name": "stdout",
     "output_type": "stream",
     "text": [
      "INFO:tensorflow:global_step/sec: 1095.55\n",
      "INFO:tensorflow:loss = 93411150000.0, step = 23301 (0.092 sec)\n",
      "INFO:tensorflow:global_step/sec: 1158.88\n",
      "INFO:tensorflow:loss = 65199194000.0, step = 23401 (0.086 sec)\n",
      "INFO:tensorflow:global_step/sec: 1095.57\n",
      "INFO:tensorflow:loss = 54947824000.0, step = 23501 (0.091 sec)\n",
      "INFO:tensorflow:global_step/sec: 1101.84\n",
      "INFO:tensorflow:loss = 149902410000.0, step = 23601 (0.091 sec)\n",
      "INFO:tensorflow:global_step/sec: 1055.45\n",
      "INFO:tensorflow:loss = 109948320000.0, step = 23701 (0.094 sec)\n",
      "INFO:tensorflow:global_step/sec: 1089.87\n",
      "INFO:tensorflow:loss = 41429320000.0, step = 23801 (0.093 sec)\n",
      "INFO:tensorflow:global_step/sec: 1089.85\n",
      "INFO:tensorflow:loss = 53045410000.0, step = 23901 (0.091 sec)\n",
      "INFO:tensorflow:global_step/sec: 1078.14\n",
      "INFO:tensorflow:loss = 56240447000.0, step = 24001 (0.093 sec)\n",
      "INFO:tensorflow:global_step/sec: 1023.14\n",
      "INFO:tensorflow:loss = 142610970000.0, step = 24101 (0.099 sec)\n",
      "INFO:tensorflow:global_step/sec: 1089.87\n",
      "INFO:tensorflow:loss = 185583680000.0, step = 24201 (0.091 sec)\n",
      "INFO:tensorflow:global_step/sec: 1055.45\n",
      "INFO:tensorflow:loss = 56282900000.0, step = 24301 (0.095 sec)\n",
      "INFO:tensorflow:global_step/sec: 1089.85\n",
      "INFO:tensorflow:loss = 62821140000.0, step = 24401 (0.093 sec)\n",
      "INFO:tensorflow:global_step/sec: 1055.45\n",
      "INFO:tensorflow:loss = 68611084000.0, step = 24501 (0.095 sec)\n",
      "INFO:tensorflow:global_step/sec: 1066.68\n",
      "INFO:tensorflow:loss = 119571810000.0, step = 24601 (0.093 sec)\n",
      "INFO:tensorflow:global_step/sec: 1066.67\n",
      "INFO:tensorflow:loss = 67624310000.0, step = 24701 (0.095 sec)\n",
      "INFO:tensorflow:global_step/sec: 1044.44\n",
      "INFO:tensorflow:loss = 184867390000.0, step = 24801 (0.095 sec)\n",
      "INFO:tensorflow:global_step/sec: 1055.46\n",
      "INFO:tensorflow:loss = 86501100000.0, step = 24901 (0.096 sec)\n",
      "INFO:tensorflow:Calling checkpoint listeners before saving checkpoint 25000...\n",
      "INFO:tensorflow:Saving checkpoints for 25000 into C:\\Users\\Rachit\\AppData\\Local\\Temp\\tmpotkb719q\\model.ckpt.\n",
      "INFO:tensorflow:Calling checkpoint listeners after saving checkpoint 25000...\n",
      "INFO:tensorflow:Loss for final step: 71917355000.0.\n"
     ]
    },
    {
     "data": {
      "text/plain": [
       "<tensorflow_estimator.python.estimator.canned.dnn.DNNRegressor at 0x29ccc025370>"
      ]
     },
     "execution_count": 170,
     "metadata": {},
     "output_type": "execute_result"
    }
   ],
   "source": [
    "model.train(input_fn=input_func,steps=25000)"
   ]
  },
  {
   "cell_type": "markdown",
   "metadata": {},
   "source": [
    "** Create a prediction input function and then use the .predict method off your estimator model to create a list or predictions on your test data. **"
   ]
  },
  {
   "cell_type": "code",
   "execution_count": 171,
   "metadata": {},
   "outputs": [],
   "source": [
    "predict_input_func = tf.estimator.inputs.pandas_input_fn(\n",
    "      x=X_test,\n",
    "      batch_size=10,\n",
    "      num_epochs=1,\n",
    "      shuffle=False)"
   ]
  },
  {
   "cell_type": "code",
   "execution_count": 172,
   "metadata": {},
   "outputs": [],
   "source": [
    "pred_gen = model.predict(predict_input_func)"
   ]
  },
  {
   "cell_type": "code",
   "execution_count": 173,
   "metadata": {},
   "outputs": [
    {
     "name": "stdout",
     "output_type": "stream",
     "text": [
      "INFO:tensorflow:Calling model_fn.\n",
      "INFO:tensorflow:Done calling model_fn.\n",
      "INFO:tensorflow:Graph was finalized.\n",
      "INFO:tensorflow:Restoring parameters from C:\\Users\\Rachit\\AppData\\Local\\Temp\\tmpotkb719q\\model.ckpt-25000\n",
      "INFO:tensorflow:Running local_init_op.\n",
      "INFO:tensorflow:Done running local_init_op.\n"
     ]
    }
   ],
   "source": [
    "predictions = list(pred_gen)"
   ]
  },
  {
   "cell_type": "markdown",
   "metadata": {},
   "source": [
    "** Calculate the RMSE. Do this manually or use [sklearn.metrics](http://scikit-learn.org/stable/modules/generated/sklearn.metrics.mean_squared_error.html) **"
   ]
  },
  {
   "cell_type": "code",
   "execution_count": 174,
   "metadata": {},
   "outputs": [],
   "source": [
    "final_preds = []\n",
    "for pred in predictions:\n",
    "    final_preds.append(pred['predictions'])"
   ]
  },
  {
   "cell_type": "code",
   "execution_count": 175,
   "metadata": {},
   "outputs": [],
   "source": [
    "from sklearn.metrics import mean_squared_error"
   ]
  },
  {
   "cell_type": "code",
   "execution_count": 176,
   "metadata": {},
   "outputs": [
    {
     "data": {
      "text/plain": [
       "98196.34548365192"
      ]
     },
     "execution_count": 176,
     "metadata": {},
     "output_type": "execute_result"
    }
   ],
   "source": [
    "mean_squared_error(y_test,final_preds)**0.5"
   ]
  }
 ],
 "metadata": {
  "kernelspec": {
   "display_name": "Python 3",
   "language": "python",
   "name": "python3"
  },
  "language_info": {
   "codemirror_mode": {
    "name": "ipython",
    "version": 3
   },
   "file_extension": ".py",
   "mimetype": "text/x-python",
   "name": "python",
   "nbconvert_exporter": "python",
   "pygments_lexer": "ipython3",
   "version": "3.8.6"
  }
 },
 "nbformat": 4,
 "nbformat_minor": 2
}
